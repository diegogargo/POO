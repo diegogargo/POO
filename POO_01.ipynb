{
  "nbformat": 4,
  "nbformat_minor": 0,
  "metadata": {
    "colab": {
      "provenance": []
    },
    "kernelspec": {
      "name": "python3",
      "display_name": "Python 3"
    },
    "language_info": {
      "name": "python"
    }
  },
  "cells": [
    {
      "cell_type": "code",
      "execution_count": 1,
      "metadata": {
        "colab": {
          "base_uri": "https://localhost:8080/"
        },
        "id": "9ZFu-94EicQW",
        "outputId": "fffc4a13-2258-4a4d-c3b1-680951ef0717"
      },
      "outputs": [
        {
          "output_type": "stream",
          "name": "stdout",
          "text": [
            "Hola Mundo!\n"
          ]
        }
      ],
      "source": [
        "print(\"Hola Mundo!\")\n"
      ]
    },
    {
      "cell_type": "code",
      "source": [
        "# Crear Variables\n",
        "x = 3\n",
        "y = 5"
      ],
      "metadata": {
        "id": "pzAByQwFs65p"
      },
      "execution_count": 4,
      "outputs": []
    },
    {
      "cell_type": "code",
      "source": [
        "print(x+y)\n",
        "print(x-y)\n",
        "print(x*y)\n",
        "print(x**y)\n",
        "print(x/y)\n",
        "print(x//y)\n",
        "print(x%y)"
      ],
      "metadata": {
        "colab": {
          "base_uri": "https://localhost:8080/"
        },
        "id": "sFkWevqOjDmM",
        "outputId": "7ddf916e-393d-474c-dbcf-f0f534044539"
      },
      "execution_count": 10,
      "outputs": [
        {
          "output_type": "stream",
          "name": "stdout",
          "text": [
            "8\n",
            "-2\n",
            "15\n",
            "243\n",
            "0.6\n",
            "0\n",
            "3\n"
          ]
        }
      ]
    },
    {
      "cell_type": "code",
      "source": [
        "type(x/y)"
      ],
      "metadata": {
        "colab": {
          "base_uri": "https://localhost:8080/"
        },
        "id": "_oIM2QjItEje",
        "outputId": "2f0a9fc0-0c1d-40da-aec6-0c75c84c2d3b"
      },
      "execution_count": 11,
      "outputs": [
        {
          "output_type": "execute_result",
          "data": {
            "text/plain": [
              "float"
            ]
          },
          "metadata": {},
          "execution_count": 11
        }
      ]
    },
    {
      "cell_type": "markdown",
      "source": [
        "# Primeros objetos\n",
        "## Objetos en python\n",
        "\n",
        "*   Objetos\n",
        "*   Listas\n",
        "*   Conjuntos\n",
        "\n",
        "En python se pueden realizar operaciones sobre objetos.\n",
        "Además, es útil para resolver un sistema de ecuaciones lineales.\n",
        "\n",
        "$$\n",
        "\\begin{cases}\n",
        "x+2y = 3\\\\\n",
        "2x+4y =6\n",
        "\\end{cases}\n",
        "$$\n"
      ],
      "metadata": {
        "id": "wusWSrnmjEvh"
      }
    },
    {
      "cell_type": "code",
      "source": [
        "type (x+y)"
      ],
      "metadata": {
        "colab": {
          "base_uri": "https://localhost:8080/"
        },
        "id": "7PQLUqkPwWwn",
        "outputId": "72cf79de-5207-4b87-f02c-92399b0d8585"
      },
      "execution_count": 12,
      "outputs": [
        {
          "output_type": "execute_result",
          "data": {
            "text/plain": [
              "int"
            ]
          },
          "metadata": {},
          "execution_count": 12
        }
      ]
    }
  ]
}